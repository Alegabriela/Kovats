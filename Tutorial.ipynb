{
 "cells": [
  {
   "cell_type": "markdown",
   "metadata": {},
   "source": [
    "# Tutorial\n",
    "Cálculo de Indice de Kovats utilizando código programado en lenguaje Python\n",
    "\n",
    "PARA COMENZAR: Instalar Jupyter Notebook\n",
    "Pre requisito: Python\n",
    "Para nuevos usuarios, se recomienda utilizar la distribución Anaconda, que convenientemente instala Python, Jupyter Notebook y otros paquetes de uso común\n",
    "\n",
    "Pasos de instalación:\n",
    "1.\tDescargar Anaconda. Se recomienda instalar la última versión: https://www.anaconda.com/download/\n",
    "2.\tInstalar la versión de Anaconda descargada, siguiendo las instrucciones en la página de descarga.\n",
    "3.\tYa has instalado Jupyter Notebook. Para abrirlo: abre la terminal “Anaconda Prompt”, escribe “jupyter notebook” y presiona Enter.\n",
    "\n",
    "\n",
    "IMPORTANTE: Al abrir Jupyter Notebook, seleccionar la carpeta de trabajo! Es decir, aquella carpeta donde se encuentran los archivos Excel a utilizar.\n",
    "\n",
    "- El símbolo # se ubica al inicio de una línea para que  no sea considerada como parte del código, siendo muy útil para agregar instrucciones o recordatorios\n",
    "- Para correr un comando: hacer click en uno de los cuadros y presionar 'Shift+Enter'\n",
    "- SÓLO se correrán las líneas que se encuentren en colores, es decir, aquellas que NO tengan el símbolo # al inicio\n",
    "\n",
    "Cualquier cosa me preguntan!\n",
    "Ale :)\n"
   ]
  },
  {
   "cell_type": "code",
   "execution_count": 3,
   "metadata": {
    "collapsed": true
   },
   "outputs": [],
   "source": [
    "#Paso 1: Importamos la librería pandas y numpy\n",
    "import pandas as pd \n",
    "import numpy as np"
   ]
  },
  {
   "cell_type": "code",
   "execution_count": 5,
   "metadata": {},
   "outputs": [],
   "source": [
    "#Paso 2: Cargar el archivo Excel donde se encuentra la tabla con cada peak y su respectivo tiempo de retención\n",
    "#obtenida a partir de GCMS Postrun Analysis. Utilizar para este caso, el archivo excel Ejemplo.xlsx\n",
    "datos = pd.read_excel('Ejemplo.xlsx')\n",
    "\n",
    "#Si quiero visualizar las primeras 5 filas de la tabla para verificar que se encuentra correctamente cargada:\n",
    "#datos.head()\n",
    "\n",
    "#Alternativamente, podemos ver \"N\" filas utilizando:\n",
    "#datos.head(N)\n",
    "\n",
    "#Paso 3: Dado que en las tablas el tiempo se encuentra sin comas, dividir todos los tiempos de retención por 1000:\n",
    "t = datos['Rt']/1000\n",
    "\n",
    "#Exportar los tiempos de retención resultantes a un archivo Excel\n",
    "t.to_excel('tiempos.xlsx')\n",
    "\n",
    "#Paso 4: En la carpeta de trabajo, abrir el Excel tiempos.xlsx, copiar la columna de tiempos de retención y \n",
    "#pegar en la columna Rt del Excel original\n"
   ]
  },
  {
   "cell_type": "code",
   "execution_count": 10,
   "metadata": {},
   "outputs": [],
   "source": [
    "#Paso 5: Seleccionar peaks de interés\n",
    "\n",
    "#Si quiero seleccionar los peaks de tiempo de retención mayor o igual a 6.875 -¡RECOMENDABLE! Sólo desde ahí podemos calcular-\n",
    "comp = datos[(datos['Rt']>=6.875)]\n",
    "\n",
    "#Si quiero trabajar con todos los peaks:\n",
    "#comp = datos\n",
    "\n",
    "#Si quiero seleccionar los peaks de área mayor o igual a 0.5\n",
    "#comp = datos[(datos['Area%']>=0.5)]\n",
    "\n",
    "#Si quiero excluir los peaks que corresponden a sangrado de columna-> OJO, previamente hay que marcar en el Excel\n",
    "#dichos peaks con la letra 'R' en una columna adicional, de nombre 'Class'\n",
    "#comp = datos[(datos['Class']!='R')]\n",
    "\n",
    "#Si quiero combinar estas condiciones:\n",
    "#comp = datos[(datos['Area%']>=0.5) & (datos['Rt']>=6.875)]\n",
    "#comp = datos[(datos['Area%']>=0.5) & (datos['Class']!='R') & (datos['Rt']>=6.875)]\n",
    "\n",
    "#Si quiero observar los peaks seleccionados\n",
    "#comp.head()"
   ]
  },
  {
   "cell_type": "code",
   "execution_count": 11,
   "metadata": {
    "collapsed": true
   },
   "outputs": [],
   "source": [
    "#Paso 6: Cargar archivo Excel donde se encuentran los datos para calcular Indice de Kovats\n",
    "alc_mom = pd.read_excel('AlcMomiasPandita.xlsx')\n",
    "\n",
    "#Para verificar que se encuentra cargado\n",
    "#alc_mom.head()"
   ]
  },
  {
   "cell_type": "markdown",
   "metadata": {
    "collapsed": true
   },
   "source": []
  },
  {
   "cell_type": "code",
   "execution_count": 12,
   "metadata": {
    "collapsed": true
   },
   "outputs": [],
   "source": [
    "#Paso 7: Correr ciclo 'for' que va tomando cada tiempo de retención, ubicándolo en un intervalo y calculando el IK\n",
    "\n",
    "IK_teo = []\n",
    "for Rt in comp['Rt']:\n",
    "    for i in range(0, alc_mom.shape[0]):\n",
    "        cota_inf = alc_mom['T b'][i]\n",
    "        cota_sup = alc_mom['T a'][i]\n",
    "       \n",
    "        if Rt >= cota_inf and Rt < cota_sup:\n",
    "            nb = alc_mom['nb'][i]\n",
    "            log_rt = np.log10(Rt)\n",
    "            log_tb = alc_mom['Log T b'][i]\n",
    "            log_ta = alc_mom['Log Ta'][i]\n",
    "        \n",
    "            kovats = 100*(nb+((log_rt-log_tb)/(log_ta-log_tb)))\n",
    "            IK_teo.append(kovats)\n",
    "            "
   ]
  },
  {
   "cell_type": "code",
   "execution_count": 13,
   "metadata": {
    "collapsed": true
   },
   "outputs": [],
   "source": [
    "#Paso 8: Exportar tabla Excel con IK calculados\n",
    "\n",
    "IK_teo_df = pd.DataFrame(IK_teo)\n",
    "IK_teo_df.columns = ['IK teo']\n",
    "IK_teo_df.head()\n",
    "\n",
    "comp = comp.reset_index()\n",
    "comp_new = pd.concat([comp, IK_teo_df], axis=1)\n",
    "comp_new.to_excel('./Listeilor.xlsx')"
   ]
  },
  {
   "cell_type": "code",
   "execution_count": null,
   "metadata": {
    "collapsed": true
   },
   "outputs": [],
   "source": []
  },
  {
   "cell_type": "code",
   "execution_count": null,
   "metadata": {
    "scrolled": true
   },
   "outputs": [],
   "source": []
  },
  {
   "cell_type": "code",
   "execution_count": null,
   "metadata": {
    "collapsed": true
   },
   "outputs": [],
   "source": []
  }
 ],
 "metadata": {
  "kernelspec": {
   "display_name": "Python 3",
   "language": "python",
   "name": "python3"
  },
  "language_info": {
   "codemirror_mode": {
    "name": "ipython",
    "version": 3
   },
   "file_extension": ".py",
   "mimetype": "text/x-python",
   "name": "python",
   "nbconvert_exporter": "python",
   "pygments_lexer": "ipython3",
   "version": "3.6.3"
  }
 },
 "nbformat": 4,
 "nbformat_minor": 2
}
